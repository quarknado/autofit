{
 "cells": [
  {
   "cell_type": "code",
   "execution_count": 1,
   "metadata": {},
   "outputs": [],
   "source": [
    "import numpy as np\n",
    "import pandas as pd\n",
    "import matplotlib.pyplot as plt\n",
    "%matplotlib inline"
   ]
  },
  {
   "cell_type": "code",
   "execution_count": 2,
   "metadata": {},
   "outputs": [],
   "source": [
    "def converter(instr):\n",
    "    return np.fromstring(instr[1:-1],sep=' ')"
   ]
  },
  {
   "cell_type": "code",
   "execution_count": 3,
   "metadata": {},
   "outputs": [
    {
     "name": "stdout",
     "output_type": "stream",
     "text": [
      "1785\n"
     ]
    }
   ],
   "source": [
    "#read in my data. There are 3 \n",
    "df = pd.read_csv('train_data.txt', converters={'xvalues':converter, 'ymeasured':converter})\n",
    "print(len(df['xvalues']))"
   ]
  },
  {
   "cell_type": "code",
   "execution_count": 4,
   "metadata": {},
   "outputs": [],
   "source": [
    "lengths = []\n",
    "\n",
    "for i, row in df.iterrows():\n",
    "    #print(row[\"ispeaks\"])\n",
    "    if row[\"ispeaks\"] == 'y':\n",
    "        #print('debug')\n",
    "        row[\"ispeaks\"] = 1\n",
    "    else: row[\"ispeaks\"] = 0\n",
    "        \n",
    "    lengths.append(len(row['ymeasured']))\n",
    "    \n",
    "#df.head()\n",
    "#print(df[\"ispeaks\"])\n",
    "maxlen = max(lengths)\n",
    "#maxlen"
   ]
  },
  {
   "cell_type": "code",
   "execution_count": 5,
   "metadata": {},
   "outputs": [
    {
     "name": "stderr",
     "output_type": "stream",
     "text": [
      "/home/ben/anaconda3/lib/python3.6/site-packages/h5py/__init__.py:36: FutureWarning: Conversion of the second argument of issubdtype from `float` to `np.floating` is deprecated. In future, it will be treated as `np.float64 == np.dtype(float).type`.\n",
      "  from ._conv import register_converters as _register_converters\n",
      "Using TensorFlow backend.\n"
     ]
    },
    {
     "name": "stdout",
     "output_type": "stream",
     "text": [
      "[[0. 1.]\n",
      " [1. 0.]\n",
      " [0. 1.]\n",
      " ...\n",
      " [0. 1.]\n",
      " [0. 1.]\n",
      " [0. 1.]]\n"
     ]
    }
   ],
   "source": [
    "import keras\n",
    "from sklearn.model_selection import train_test_split\n",
    "\n",
    "labels_and_features_df = df\n",
    "labels_arr = labels_and_features_df[\"ispeaks\"]\n",
    "labels_arr = labels_arr.astype('int64')\n",
    "#for element in labels_arr:\n",
    "#    if element != 0:\n",
    "#        print(element)\n",
    "\n",
    "labels_arr = keras.utils.to_categorical(labels_arr)\n",
    "\n",
    "print(labels_arr)\n",
    "\n",
    "features_arr = []\n",
    "\n",
    "for i, row in df.iterrows():\n",
    "    ymeas = []\n",
    "    for val in row[1]:\n",
    "        ymeas.append(val)\n",
    "    while len(ymeas) != maxlen:\n",
    "        ymeas.append(0)\n",
    "        \n",
    "    ymeas = np.array(ymeas)\n",
    "    features_arr.append(ymeas)\n",
    "    \n",
    "features_arr = np.array(features_arr)\n",
    "    \n",
    "#print(np.shape(features_arr))\n",
    "\n",
    "X_train, X_test, y_train, y_test = train_test_split(features_arr, labels_arr, test_size=0.30)\n",
    "\n",
    "#print(y_train)"
   ]
  },
  {
   "cell_type": "code",
   "execution_count": 18,
   "metadata": {},
   "outputs": [],
   "source": [
    "from keras.models import Sequential\n",
    "from keras.layers import Dense\n",
    "\n",
    "model = Sequential()\n",
    "model.add(Dense(units=100, activation='sigmoid', input_dim = maxlen))\n",
    "model.add(Dense(units=100, activation='sigmoid'))\n",
    "model.add(Dense(units=2, activation='sigmoid'))\n",
    "\n",
    "model.compile(loss='categorical_crossentropy',\n",
    "              optimizer='sgd',\n",
    "              metrics=['accuracy'])"
   ]
  },
  {
   "cell_type": "code",
   "execution_count": 19,
   "metadata": {},
   "outputs": [
    {
     "name": "stdout",
     "output_type": "stream",
     "text": [
      "Train on 999 samples, validate on 250 samples\n",
      "Epoch 1/20\n",
      "999/999 [==============================] - 0s 158us/step - loss: 0.4352 - acc: 0.8599 - val_loss: 0.3594 - val_acc: 0.8640\n",
      "Epoch 2/20\n",
      "999/999 [==============================] - 0s 39us/step - loss: 0.3520 - acc: 0.8649 - val_loss: 0.3351 - val_acc: 0.8640\n",
      "Epoch 3/20\n",
      "999/999 [==============================] - 0s 40us/step - loss: 0.3343 - acc: 0.8649 - val_loss: 0.3182 - val_acc: 0.8640\n",
      "Epoch 4/20\n",
      "999/999 [==============================] - 0s 39us/step - loss: 0.3206 - acc: 0.8649 - val_loss: 0.3025 - val_acc: 0.8640\n",
      "Epoch 5/20\n",
      "999/999 [==============================] - 0s 39us/step - loss: 0.3095 - acc: 0.8649 - val_loss: 0.2915 - val_acc: 0.8640\n",
      "Epoch 6/20\n",
      "999/999 [==============================] - 0s 40us/step - loss: 0.2990 - acc: 0.8649 - val_loss: 0.2781 - val_acc: 0.8640\n",
      "Epoch 7/20\n",
      "999/999 [==============================] - 0s 40us/step - loss: 0.2888 - acc: 0.8649 - val_loss: 0.2650 - val_acc: 0.8640\n",
      "Epoch 8/20\n",
      "999/999 [==============================] - 0s 42us/step - loss: 0.2801 - acc: 0.8649 - val_loss: 0.2559 - val_acc: 0.8760\n",
      "Epoch 9/20\n",
      "999/999 [==============================] - 0s 41us/step - loss: 0.2743 - acc: 0.8839 - val_loss: 0.2479 - val_acc: 0.8760\n",
      "Epoch 10/20\n",
      "999/999 [==============================] - 0s 39us/step - loss: 0.2684 - acc: 0.8889 - val_loss: 0.2425 - val_acc: 0.8880\n",
      "Epoch 11/20\n",
      "999/999 [==============================] - 0s 40us/step - loss: 0.2626 - acc: 0.9009 - val_loss: 0.2390 - val_acc: 0.9280\n",
      "Epoch 12/20\n",
      "999/999 [==============================] - 0s 40us/step - loss: 0.2583 - acc: 0.9179 - val_loss: 0.2326 - val_acc: 0.9360\n",
      "Epoch 13/20\n",
      "999/999 [==============================] - 0s 40us/step - loss: 0.2536 - acc: 0.9199 - val_loss: 0.2263 - val_acc: 0.9320\n",
      "Epoch 14/20\n",
      "999/999 [==============================] - 0s 39us/step - loss: 0.2499 - acc: 0.9249 - val_loss: 0.2209 - val_acc: 0.9360\n",
      "Epoch 15/20\n",
      "999/999 [==============================] - 0s 41us/step - loss: 0.2468 - acc: 0.9269 - val_loss: 0.2148 - val_acc: 0.9440\n",
      "Epoch 16/20\n",
      "999/999 [==============================] - 0s 40us/step - loss: 0.2442 - acc: 0.9269 - val_loss: 0.2119 - val_acc: 0.9360\n",
      "Epoch 17/20\n",
      "999/999 [==============================] - 0s 39us/step - loss: 0.2408 - acc: 0.9259 - val_loss: 0.2092 - val_acc: 0.9320\n",
      "Epoch 18/20\n",
      "999/999 [==============================] - 0s 39us/step - loss: 0.2389 - acc: 0.9269 - val_loss: 0.2057 - val_acc: 0.9440\n",
      "Epoch 19/20\n",
      "999/999 [==============================] - 0s 39us/step - loss: 0.2359 - acc: 0.9289 - val_loss: 0.2041 - val_acc: 0.9400\n",
      "Epoch 20/20\n",
      "999/999 [==============================] - 0s 42us/step - loss: 0.2332 - acc: 0.9259 - val_loss: 0.2033 - val_acc: 0.9400\n",
      "536/536 [==============================] - 0s 17us/step\n",
      "Loss: 0.273840345108687 \n",
      "Accuracy: 0.917910447761194\n"
     ]
    }
   ],
   "source": [
    "history =model.fit(X_train,y_train,epochs = 20,validation_split=0.20)\n",
    "metric_arr = model.evaluate(X_test,y_test)\n",
    "print(\"Loss: \" + str(metric_arr[0]), \"\\nAccuracy: \" + str(metric_arr[1]))"
   ]
  },
  {
   "cell_type": "code",
   "execution_count": 20,
   "metadata": {},
   "outputs": [
    {
     "data": {
      "image/png": "[encoded data removed]",
      "text/plain": [
       "<Figure size 432x288 with 1 Axes>"
      ]
     },
     "metadata": {},
     "output_type": "display_data"
    },
    {
     "data": {
      "image/png": "[encoded data removed]",
      "text/plain": [
       "<Figure size 432x288 with 1 Axes>"
      ]
     },
     "metadata": {},
     "output_type": "display_data"
    }
   ],
   "source": [
    "plt.plot(history.history['acc'])\n",
    "plt.plot(history.history['val_acc'])\n",
    "plt.title('model accuracy')\n",
    "plt.ylabel('accuracy')\n",
    "plt.xlabel('epoch')\n",
    "plt.legend(['train', 'test'], loc='upper left')\n",
    "plt.show()\n",
    "# summarize history for loss\n",
    "plt.plot(history.history['loss'])\n",
    "plt.plot(history.history['val_loss'])\n",
    "plt.title('model loss')\n",
    "plt.ylabel('loss')\n",
    "plt.xlabel('epoch')\n",
    "plt.legend(['train', 'test'], loc='upper left')\n",
    "plt.show()"
   ]
  },
  {
   "cell_type": "code",
   "execution_count": null,
   "metadata": {},
   "outputs": [],
   "source": [
    "#overall normal sets of peaks are 86% of the total."
   ]
  }
 ],
 "metadata": {
  "kernelspec": {
   "display_name": "Python 3",
   "language": "python",
   "name": "python3"
  },
  "language_info": {
   "codemirror_mode": {
    "name": "ipython",
    "version": 3
   },
   "file_extension": ".py",
   "mimetype": "text/x-python",
   "name": "python",
   "nbconvert_exporter": "python",
   "pygments_lexer": "ipython3",
   "version": "3.6.5"
  }
 },
 "nbformat": 4,
 "nbformat_minor": 2
}
