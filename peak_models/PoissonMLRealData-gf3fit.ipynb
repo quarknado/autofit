{
 "cells": [
  {
   "cell_type": "code",
   "execution_count": 1,
   "metadata": {},
   "outputs": [],
   "source": [
    "import scipy as sp\n",
    "import scipy.optimize as op\n",
    "import numpy as np\n",
    "import pylab as pl\n",
    "import emcee\n",
    "from scipy.special import erfc\n",
    "from lmfit.models import SkewedGaussianModel\n",
    "%matplotlib inline"
   ]
  },
  {
   "cell_type": "code",
   "execution_count": 2,
   "metadata": {},
   "outputs": [],
   "source": [
    "filename = 'run562.txt'\n",
    "infile = open(filename,'r')\n",
    "\n",
    "xvals=[];ymeas=[]\n",
    "while True:\n",
    "    line = infile.readline()\n",
    "    if not line: break\n",
    "        \n",
    "    items = line.split()\n",
    "    xvals.append(float(items[0]))\n",
    "    ymeas.append(float(items[1]))\n",
    "    \n",
    "xvals = np.array(xvals[1670:1730])\n",
    "ymeas = np.array(ymeas[1670:1730])\n",
    "\n",
    "infile.close()"
   ]
  },
  {
   "cell_type": "code",
   "execution_count": 3,
   "metadata": {},
   "outputs": [
    {
     "data": {
      "image/png": "[encoded data removed]",
      "text/plain": [
       "<Figure size 432x288 with 1 Axes>"
      ]
     },
     "metadata": {
      "needs_background": "light"
     },
     "output_type": "display_data"
    }
   ],
   "source": [
    "pl.subplot(111)\n",
    "pl.plot(xvals,ymeas)\n",
    "pl.show()"
   ]
  },
  {
   "cell_type": "markdown",
   "metadata": {},
   "source": [
    "---"
   ]
  },
  {
   "cell_type": "markdown",
   "metadata": {},
   "source": [
    "https://lmfit.github.io/lmfit-py/builtin_models.html#skewedgaussianmodel"
   ]
  },
  {
   "cell_type": "code",
   "execution_count": 4,
   "metadata": {},
   "outputs": [],
   "source": [
    "'''\n",
    "def gauss_fn(p0, x):\n",
    "    \n",
    "    amp,mu,sigma,gamma = p0\n",
    "    model = SkewedGaussianModel()\n",
    "        #amp*=sigma*np.sqrt(2*np.pi)\n",
    "    \n",
    "    # set initial parameter values\n",
    "    params = model.make_params(amplitude=amp, center=mu, sigma=sigma, gamma=gamma)\n",
    "    ymod = model.eval(params=params,x=x)\n",
    "    \n",
    "    return ymod\n",
    "'''\n",
    "\n",
    "def gf3(p0, x):\n",
    "    #this is the fuctional form that we have been using in our manual fit\n",
    "    #it is the sum of a gaussian and a skewed gaussian with the same mean\n",
    "    #the extra parameters r and beta are introduced\n",
    "    #r is the fraction of the height of the skewed gaussian given as a pecentage\n",
    "    #beta is the 'skewneess' of the second skew gaussian\n",
    "    #it is the decay constant of an exponential tail on the skewed gaussian\n",
    "    #this exponential tail is convolved with a gaussian resolution function\n",
    "    \n",
    "    amp, mu, sigma, r, beta = p0\n",
    "    \n",
    "    \n",
    "    #gaussian part\n",
    "    ygaus = amp * (1 - r/100) * np.exp((-(x - mu)**2)/(2 * sigma**2))\n",
    "    \n",
    "    #'skew' gaussian part. erfc is 1 - the error function\n",
    "    yskew = amp * (r/100) * np.exp((x-mu)/beta) * erfc( (x-mu)/(sigma * np.sqrt(2))  + sigma/(beta*np.sqrt(2)))\n",
    "    #yskew = 0\n",
    "    #ygaus = 0\n",
    "    ymod = yskew + ygaus\n",
    "    \n",
    "    return ymod"
   ]
  },
  {
   "cell_type": "code",
   "execution_count": 5,
   "metadata": {},
   "outputs": [
    {
     "data": {
      "image/png": "[encoded data removed]",
      "text/plain": [
       "<Figure size 432x288 with 1 Axes>"
      ]
     },
     "metadata": {
      "needs_background": "light"
     },
     "output_type": "display_data"
    }
   ],
   "source": [
    "#test to see if this function looks correct\n",
    "x = np.arange(-100, 100, step = 0.001)\n",
    "y = gf3([100, 25, 10, 10,50],x)\n",
    "\n",
    "#y = np.exp(((x-5)/5)) * erfc(((x-5)/(10*2**0.5)) + 2/(5*2**0.5 ))\n",
    "pl.plot(x,y)\n",
    "\n",
    "pl.show()"
   ]
  },
  {
   "cell_type": "code",
   "execution_count": 6,
   "metadata": {},
   "outputs": [],
   "source": [
    "def lnlike(p0, x, y):\n",
    "    \n",
    "    # get model for these parameters:\n",
    "    #ymod = gauss_fn(p0,x)\n",
    "    ymod = gf3(p0,x)\n",
    "    \n",
    "    # Poisson loglikelihood:\n",
    "    ll = np.sum(ymod[np.where(ymeas!=0)]*np.log(ymeas[np.where(ymeas!=0)])) - np.sum(ymeas) - np.sum(ymod[np.where(ymod!=0)]*np.log(ymod[np.where(ymod!=0)]) - ymod[np.where(ymod!=0)])\n",
    "    #if np.isnan(ll):\n",
    "    #    ll = -35\n",
    "    #print(ll)\n",
    "    return ll"
   ]
  },
  {
   "cell_type": "code",
   "execution_count": 7,
   "metadata": {},
   "outputs": [
    {
     "name": "stdout",
     "output_type": "stream",
     "text": [
      "37.0 1874.5 10.0 10.0 5.0\n"
     ]
    }
   ],
   "source": [
    "# use maxvalue to guess amplitude:\n",
    "a0 = np.max(ymeas)\n",
    "\n",
    "# use position of maxvalue to guess mean:\n",
    "m0 = xvals[np.argmax(ymeas)]\n",
    "\n",
    "# just guess width:\n",
    "s0 = 10.\n",
    "\n",
    "# just guess r and beta from what they usually turn out about from experience\n",
    "r0 = 10.\n",
    "b0 = 5.\n",
    "\n",
    "# adjust the amplitude for the normalisation factor:\n",
    "#a0*=s0*np.sqrt(2*np.pi)\n",
    "\n",
    "print(a0,m0,s0,r0,b0)\n",
    "p0 = np.array([a0,m0,s0,r0,b0])"
   ]
  },
  {
   "cell_type": "code",
   "execution_count": 8,
   "metadata": {},
   "outputs": [
    {
     "name": "stdout",
     "output_type": "stream",
     "text": [
      "5\n",
      "5\n"
     ]
    }
   ],
   "source": [
    "bnds = ((None,None), (None,None), (0.,None), (0., 100), (0.,None))\n",
    "\n",
    "print(len(p0))\n",
    "print(len(bnds))"
   ]
  },
  {
   "cell_type": "code",
   "execution_count": 9,
   "metadata": {},
   "outputs": [
    {
     "name": "stdout",
     "output_type": "stream",
     "text": [
      "True\n",
      "0\n",
      "b'CONVERGENCE: REL_REDUCTION_OF_F_<=_FACTR*EPSMCH'\n",
      "[  28.95438703 1874.29499401    7.07064366   15.49938204   20.70027834]\n",
      "[[   8.37120903    2.65336641   -1.59052665   18.55911898  -21.53809619]\n",
      " [   2.65336641    1.85686725   -0.69070347   10.66768777  -10.39426366]\n",
      " [  -1.59052665   -0.69070347    0.49638923   -5.86664553    6.01397982]\n",
      " [  18.55911898   10.66768777   -5.86664553  145.90394671 -149.64989617]\n",
      " [ -21.53809619  -10.39426366    6.01397982 -149.64989617  160.35240148]]\n"
     ]
    }
   ],
   "source": [
    "nll = lambda *args: -lnlike(*args)\n",
    "\n",
    "result = op.minimize(nll, p0, bounds=bnds, args=(xvals, ymeas))\n",
    "p1 = result[\"x\"]\n",
    "print(result[\"success\"])\n",
    "print(result[\"status\"])\n",
    "print(result[\"message\"])\n",
    "p1cov = result[\"hess_inv\"].todense()\n",
    "print(p1)\n",
    "p1cov[np.isnan(p1cov)] = 0\n",
    "p1err = p1cov.diagonal()\n",
    "print(p1cov)"
   ]
  },
  {
   "cell_type": "code",
   "execution_count": 22,
   "metadata": {},
   "outputs": [
    {
     "name": "stdout",
     "output_type": "stream",
     "text": [
      "609.0\n",
      "608.9007575489355\n"
     ]
    }
   ],
   "source": [
    "def pyield(A, s, r, b):\n",
    "    part1 = s * np.sqrt(2 * np.pi) * A * (1 - r/100)\n",
    "    part2 = 2 * A * r * b/100 * np.exp(-(s**2)/(2 * b**2))\n",
    "    \n",
    "    return part1 + part2\n",
    "\n",
    "print(np.sum(ymeas))\n",
    "Y = pyield(p1[0], p1[2], p1[3], p1[4])\n",
    "print(Y)"
   ]
  },
  {
   "cell_type": "code",
   "execution_count": 23,
   "metadata": {},
   "outputs": [
    {
     "name": "stdout",
     "output_type": "stream",
     "text": [
      "608.9007575489355 +- 50.76708777294732\n"
     ]
    }
   ],
   "source": [
    "def yerr(Y,A,s,r,b,cov):\n",
    "    \n",
    "    dYdA = Y/A\n",
    "    dYdr = (Y - s * np.sqrt(2 * np.pi) * A)/r\n",
    "    dYds = np.sqrt(2 * np.pi) * A * (1 - r/100) - (2 * A * r * s * np.exp(-s**2/(2 * b**2)))/ (100 * b)\n",
    "    dYdb = (2/100) * A * r *  np.exp(-s**2/(2 * b**2)) * (1 + s**2/b**2)\n",
    "    \n",
    "    vAA, vAm, vAs,vAr, vAb = cov[0]\n",
    "    vmA, vmm, vms,vmr, vbb = cov[1]\n",
    "    vsA, vsm, vss,vsr, vsb = cov[2]\n",
    "    vrA, vrm, vrs,vrr, vrb = cov[3]\n",
    "    vbA, vbm, vbs,vbr, vbb = cov[4]\n",
    "    \n",
    "    vY = (dYdA**2 * vAA) + (dYds**2 * vss) + (dYdr**2 * vrr) + (dYdb**2 * vbb) + (2 * dYdA * dYds * vAs) + (2 * dYdA * dYdr * vAr) + (2 * dYdA * dYdb * vAb) + (2 * dYds * dYdr * vsr) + (2 * dYds * dYdb * vsb) + (2 * dYdr * dYdb * vrb)\n",
    "    return(vY)    \n",
    "    \n",
    "err = yerr(Y, p1[0], p1[2], p1[3], p1[4], p1cov)\n",
    "\n",
    "print(Y, '+-', np.sqrt(np.abs(err)))"
   ]
  },
  {
   "cell_type": "code",
   "execution_count": 53,
   "metadata": {},
   "outputs": [
    {
     "name": "stdout",
     "output_type": "stream",
     "text": [
      "[[   8.37120903    2.65336641   -1.59052665   18.55911898  -21.53809619]\n",
      " [   2.65336641    1.85686725   -0.69070347   10.66768777  -10.39426366]\n",
      " [  -1.59052665   -0.69070347    0.49638923   -5.86664553    6.01397982]\n",
      " [  18.55911898   10.66768777   -5.86664553  145.90394671 -149.64989617]\n",
      " [ -21.53809619  -10.39426366    6.01397982 -149.64989617  160.35240148]] \n",
      "\n",
      "\n",
      "\n",
      "\n",
      "\n",
      " [  2.65336641   1.85686725  -0.69070347  10.66768777 -10.39426366] [ -21.53809619  -10.39426366    6.01397982 -149.64989617  160.35240148] \n",
      "\n",
      "\n",
      "\n",
      "[   8.37120903   -1.59052665   18.55911898  -21.53809619    2.65336641\n",
      "    1.85686725   -0.69070347   10.66768777  -10.39426366   -1.59052665\n",
      "   -0.69070347    0.49638923   -5.86664553    6.01397982   18.55911898\n",
      "   10.66768777   -5.86664553  145.90394671 -149.64989617  -21.53809619\n",
      "  -10.39426366    6.01397982 -149.64989617  160.35240148]\n"
     ]
    },
    {
     "ename": "ValueError",
     "evalue": "cannot reshape array of size 24 into shape (5,4)",
     "output_type": "error",
     "traceback": [
      "\u001b[0;31m---------------------------------------------------------------------------\u001b[0m",
      "\u001b[0;31mValueError\u001b[0m                                Traceback (most recent call last)",
      "\u001b[0;32m<ipython-input-53-ec5c3721e22d>\u001b[0m in \u001b[0;36m<module>\u001b[0;34m\u001b[0m\n\u001b[1;32m     15\u001b[0m                             \u001b[0mprint\u001b[0m\u001b[0;34m(\u001b[0m\u001b[0mcov\u001b[0m\u001b[0;34m)\u001b[0m\u001b[0;34m\u001b[0m\u001b[0;34m\u001b[0m\u001b[0m\n\u001b[1;32m     16\u001b[0m     \u001b[0;32mreturn\u001b[0m\u001b[0;34m(\u001b[0m\u001b[0mcov\u001b[0m\u001b[0;34m)\u001b[0m\u001b[0;34m\u001b[0m\u001b[0;34m\u001b[0m\u001b[0m\n\u001b[0;32m---> 17\u001b[0;31m \u001b[0mprint\u001b[0m\u001b[0;34m(\u001b[0m\u001b[0mshrinkcov\u001b[0m\u001b[0;34m(\u001b[0m\u001b[0mp1cov\u001b[0m\u001b[0;34m,\u001b[0m \u001b[0;36m0\u001b[0m\u001b[0;34m,\u001b[0m \u001b[0;32mFalse\u001b[0m\u001b[0;34m)\u001b[0m\u001b[0;34m)\u001b[0m\u001b[0;34m\u001b[0m\u001b[0;34m\u001b[0m\u001b[0m\n\u001b[0m",
      "\u001b[0;32m<ipython-input-53-ec5c3721e22d>\u001b[0m in \u001b[0;36mshrinkcov\u001b[0;34m(cov, i, fixrb)\u001b[0m\n\u001b[1;32m     12\u001b[0m                             \u001b[0mcov\u001b[0m \u001b[0;34m=\u001b[0m \u001b[0mnp\u001b[0m\u001b[0;34m.\u001b[0m\u001b[0mdelete\u001b[0m\u001b[0;34m(\u001b[0m\u001b[0mcov\u001b[0m\u001b[0;34m,\u001b[0m\u001b[0mj\u001b[0m\u001b[0;34m)\u001b[0m\u001b[0;34m\u001b[0m\u001b[0;34m\u001b[0m\u001b[0m\n\u001b[1;32m     13\u001b[0m                             \u001b[0mprint\u001b[0m\u001b[0;34m(\u001b[0m\u001b[0mcov\u001b[0m\u001b[0;34m)\u001b[0m\u001b[0;34m\u001b[0m\u001b[0;34m\u001b[0m\u001b[0m\n\u001b[0;32m---> 14\u001b[0;31m                             \u001b[0mcov\u001b[0m \u001b[0;34m=\u001b[0m \u001b[0mnp\u001b[0m\u001b[0;34m.\u001b[0m\u001b[0mreshape\u001b[0m\u001b[0;34m(\u001b[0m\u001b[0mcov\u001b[0m\u001b[0;34m,\u001b[0m\u001b[0;34m(\u001b[0m\u001b[0mshape\u001b[0m\u001b[0;34m[\u001b[0m\u001b[0;36m0\u001b[0m\u001b[0;34m]\u001b[0m\u001b[0;34m,\u001b[0m \u001b[0mshape\u001b[0m\u001b[0;34m[\u001b[0m\u001b[0;36m1\u001b[0m\u001b[0;34m]\u001b[0m \u001b[0;34m-\u001b[0m \u001b[0;36m1\u001b[0m\u001b[0;34m)\u001b[0m\u001b[0;34m)\u001b[0m\u001b[0;34m\u001b[0m\u001b[0;34m\u001b[0m\u001b[0m\n\u001b[0m\u001b[1;32m     15\u001b[0m                             \u001b[0mprint\u001b[0m\u001b[0;34m(\u001b[0m\u001b[0mcov\u001b[0m\u001b[0;34m)\u001b[0m\u001b[0;34m\u001b[0m\u001b[0;34m\u001b[0m\u001b[0m\n\u001b[1;32m     16\u001b[0m     \u001b[0;32mreturn\u001b[0m\u001b[0;34m(\u001b[0m\u001b[0mcov\u001b[0m\u001b[0;34m)\u001b[0m\u001b[0;34m\u001b[0m\u001b[0;34m\u001b[0m\u001b[0m\n",
      "\u001b[0;32m~/anaconda3/lib/python3.6/site-packages/numpy/core/fromnumeric.py\u001b[0m in \u001b[0;36mreshape\u001b[0;34m(a, newshape, order)\u001b[0m\n\u001b[1;32m    277\u001b[0m            [5, 6]])\n\u001b[1;32m    278\u001b[0m     \"\"\"\n\u001b[0;32m--> 279\u001b[0;31m     \u001b[0;32mreturn\u001b[0m \u001b[0m_wrapfunc\u001b[0m\u001b[0;34m(\u001b[0m\u001b[0ma\u001b[0m\u001b[0;34m,\u001b[0m \u001b[0;34m'reshape'\u001b[0m\u001b[0;34m,\u001b[0m \u001b[0mnewshape\u001b[0m\u001b[0;34m,\u001b[0m \u001b[0morder\u001b[0m\u001b[0;34m=\u001b[0m\u001b[0morder\u001b[0m\u001b[0;34m)\u001b[0m\u001b[0;34m\u001b[0m\u001b[0;34m\u001b[0m\u001b[0m\n\u001b[0m\u001b[1;32m    280\u001b[0m \u001b[0;34m\u001b[0m\u001b[0m\n\u001b[1;32m    281\u001b[0m \u001b[0;34m\u001b[0m\u001b[0m\n",
      "\u001b[0;32m~/anaconda3/lib/python3.6/site-packages/numpy/core/fromnumeric.py\u001b[0m in \u001b[0;36m_wrapfunc\u001b[0;34m(obj, method, *args, **kwds)\u001b[0m\n\u001b[1;32m     49\u001b[0m \u001b[0;32mdef\u001b[0m \u001b[0m_wrapfunc\u001b[0m\u001b[0;34m(\u001b[0m\u001b[0mobj\u001b[0m\u001b[0;34m,\u001b[0m \u001b[0mmethod\u001b[0m\u001b[0;34m,\u001b[0m \u001b[0;34m*\u001b[0m\u001b[0margs\u001b[0m\u001b[0;34m,\u001b[0m \u001b[0;34m**\u001b[0m\u001b[0mkwds\u001b[0m\u001b[0;34m)\u001b[0m\u001b[0;34m:\u001b[0m\u001b[0;34m\u001b[0m\u001b[0;34m\u001b[0m\u001b[0m\n\u001b[1;32m     50\u001b[0m     \u001b[0;32mtry\u001b[0m\u001b[0;34m:\u001b[0m\u001b[0;34m\u001b[0m\u001b[0;34m\u001b[0m\u001b[0m\n\u001b[0;32m---> 51\u001b[0;31m         \u001b[0;32mreturn\u001b[0m \u001b[0mgetattr\u001b[0m\u001b[0;34m(\u001b[0m\u001b[0mobj\u001b[0m\u001b[0;34m,\u001b[0m \u001b[0mmethod\u001b[0m\u001b[0;34m)\u001b[0m\u001b[0;34m(\u001b[0m\u001b[0;34m*\u001b[0m\u001b[0margs\u001b[0m\u001b[0;34m,\u001b[0m \u001b[0;34m**\u001b[0m\u001b[0mkwds\u001b[0m\u001b[0;34m)\u001b[0m\u001b[0;34m\u001b[0m\u001b[0;34m\u001b[0m\u001b[0m\n\u001b[0m\u001b[1;32m     52\u001b[0m \u001b[0;34m\u001b[0m\u001b[0m\n\u001b[1;32m     53\u001b[0m     \u001b[0;31m# An AttributeError occurs if the object does not have\u001b[0m\u001b[0;34m\u001b[0m\u001b[0;34m\u001b[0m\u001b[0;34m\u001b[0m\u001b[0m\n",
      "\u001b[0;31mValueError\u001b[0m: cannot reshape array of size 24 into shape (5,4)"
     ]
    }
   ],
   "source": [
    "print(p1cov, '\\n\\n')\n",
    "\n",
    "def shrinkcov(cov,i, fixrb):\n",
    "    shape = np.shape(cov)\n",
    "    if fixrb == False:\n",
    "        for j,row in enumerate(cov):\n",
    "            if i != j:\n",
    "                if not np.array_equal(row, cov[-1]):\n",
    "                    if not np.array_equal(row, cov[-2]):\n",
    "                        if not np.array_equal(row, cov[-3]):\n",
    "                            print('\\n\\n\\n',row,cov[-1], '\\n\\n\\n')\n",
    "                            cov = np.delete(cov,j)\n",
    "                            print(cov)\n",
    "                            cov = np.reshape(cov,(shape[0], shape[1] - 1)) \n",
    "                            print(cov)\n",
    "    return(cov)\n",
    "print(shrinkcov(p1cov, 0, False))"
   ]
  },
  {
   "cell_type": "code",
   "execution_count": 12,
   "metadata": {},
   "outputs": [
    {
     "name": "stdout",
     "output_type": "stream",
     "text": [
      "-35.55273258476643\n"
     ]
    },
    {
     "data": {
      "image/png": "[encoded data removed]",
      "text/plain": [
       "<Figure size 432x288 with 1 Axes>"
      ]
     },
     "metadata": {
      "needs_background": "light"
     },
     "output_type": "display_data"
    }
   ],
   "source": [
    "\n",
    "yfit = gf3(p1,xvals)\n",
    "\n",
    "fig = pl.figure(1)\n",
    "\n",
    "ax = fig.add_subplot(111)\n",
    "\n",
    "ax.scatter(xvals,ymeas)\n",
    "ax.plot(xvals,yfit,c='r')\n",
    "\n",
    "fig.savefig(\"gf3fit.png\")\n",
    "\n",
    "print(lnlike(p1, xvals, ymeas))"
   ]
  },
  {
   "cell_type": "code",
   "execution_count": 13,
   "metadata": {},
   "outputs": [
    {
     "data": {
      "image/png": "[encoded data removed]",
      "text/plain": [
       "<Figure size 432x288 with 1 Axes>"
      ]
     },
     "metadata": {
      "needs_background": "light"
     },
     "output_type": "display_data"
    }
   ],
   "source": [
    "res = (yfit - ymeas)/np.sqrt(ymeas)\n",
    "fig = pl.figure(1)\n",
    "ax = fig.add_subplot(111)\n",
    "pl.plot(res)\n",
    "pl.ylabel(r\"$\\sigma$\")\n",
    "fig.savefig(\"residuals.png\")"
   ]
  },
  {
   "cell_type": "markdown",
   "metadata": {},
   "source": [
    "These residuals still look weird."
   ]
  },
  {
   "cell_type": "markdown",
   "metadata": {},
   "source": [
    "---"
   ]
  },
  {
   "cell_type": "code",
   "execution_count": 14,
   "metadata": {},
   "outputs": [],
   "source": [
    "ndim, nwalkers = 5, 500\n",
    "pos = [result[\"x\"] + 1e-4*np.random.randn(ndim) for i in range(nwalkers)]"
   ]
  },
  {
   "cell_type": "code",
   "execution_count": 15,
   "metadata": {},
   "outputs": [],
   "source": [
    "sampler = emcee.EnsembleSampler(nwalkers, ndim, lnlike, args=(xvals, ymeas))"
   ]
  },
  {
   "cell_type": "code",
   "execution_count": 16,
   "metadata": {},
   "outputs": [
    {
     "name": "stdout",
     "output_type": "stream",
     "text": [
      "NaN value of lnprob for parameters: \n",
      "[ 2.92275372e+01  1.87236318e+03  7.51804229e+00 -8.74657216e-01\n",
      "  4.17651208e+01]\n"
     ]
    },
    {
     "name": "stderr",
     "output_type": "stream",
     "text": [
      "/home/ben/anaconda3/lib/python3.6/site-packages/ipykernel_launcher.py:8: RuntimeWarning: invalid value encountered in log\n",
      "  \n"
     ]
    },
    {
     "ename": "ValueError",
     "evalue": "lnprob returned NaN.",
     "output_type": "error",
     "traceback": [
      "\u001b[0;31m---------------------------------------------------------------------------\u001b[0m",
      "\u001b[0;31mValueError\u001b[0m                                Traceback (most recent call last)",
      "\u001b[0;32m<ipython-input-16-076ac73de87f>\u001b[0m in \u001b[0;36m<module>\u001b[0;34m\u001b[0m\n\u001b[0;32m----> 1\u001b[0;31m \u001b[0mp0\u001b[0m \u001b[0;34m=\u001b[0m \u001b[0msampler\u001b[0m\u001b[0;34m.\u001b[0m\u001b[0mrun_mcmc\u001b[0m\u001b[0;34m(\u001b[0m\u001b[0mpos\u001b[0m\u001b[0;34m,\u001b[0m \u001b[0;36m250\u001b[0m\u001b[0;34m)\u001b[0m \u001b[0;31m#this doesn't work with 500 as it tries to use a negative value of r\u001b[0m\u001b[0;34m\u001b[0m\u001b[0;34m\u001b[0m\u001b[0m\n\u001b[0m",
      "\u001b[0;32m~/anaconda3/lib/python3.6/site-packages/emcee/sampler.py\u001b[0m in \u001b[0;36mrun_mcmc\u001b[0;34m(self, pos0, N, rstate0, lnprob0, **kwargs)\u001b[0m\n\u001b[1;32m    170\u001b[0m \u001b[0;34m\u001b[0m\u001b[0m\n\u001b[1;32m    171\u001b[0m         for results in self.sample(pos0, lnprob0, rstate0, iterations=N,\n\u001b[0;32m--> 172\u001b[0;31m                                    **kwargs):\n\u001b[0m\u001b[1;32m    173\u001b[0m             \u001b[0;32mpass\u001b[0m\u001b[0;34m\u001b[0m\u001b[0;34m\u001b[0m\u001b[0m\n\u001b[1;32m    174\u001b[0m \u001b[0;34m\u001b[0m\u001b[0m\n",
      "\u001b[0;32m~/anaconda3/lib/python3.6/site-packages/emcee/ensemble.py\u001b[0m in \u001b[0;36msample\u001b[0;34m(self, p0, lnprob0, rstate0, blobs0, iterations, thin, storechain, mh_proposal)\u001b[0m\n\u001b[1;32m    257\u001b[0m                 \u001b[0;32mfor\u001b[0m \u001b[0mS0\u001b[0m\u001b[0;34m,\u001b[0m \u001b[0mS1\u001b[0m \u001b[0;32min\u001b[0m \u001b[0;34m[\u001b[0m\u001b[0;34m(\u001b[0m\u001b[0mfirst\u001b[0m\u001b[0;34m,\u001b[0m \u001b[0msecond\u001b[0m\u001b[0;34m)\u001b[0m\u001b[0;34m,\u001b[0m \u001b[0;34m(\u001b[0m\u001b[0msecond\u001b[0m\u001b[0;34m,\u001b[0m \u001b[0mfirst\u001b[0m\u001b[0;34m)\u001b[0m\u001b[0;34m]\u001b[0m\u001b[0;34m:\u001b[0m\u001b[0;34m\u001b[0m\u001b[0;34m\u001b[0m\u001b[0m\n\u001b[1;32m    258\u001b[0m                     q, newlnp, acc, blob = self._propose_stretch(p[S0], p[S1],\n\u001b[0;32m--> 259\u001b[0;31m                                                                  lnprob[S0])\n\u001b[0m\u001b[1;32m    260\u001b[0m                     \u001b[0;32mif\u001b[0m \u001b[0mnp\u001b[0m\u001b[0;34m.\u001b[0m\u001b[0many\u001b[0m\u001b[0;34m(\u001b[0m\u001b[0macc\u001b[0m\u001b[0;34m)\u001b[0m\u001b[0;34m:\u001b[0m\u001b[0;34m\u001b[0m\u001b[0;34m\u001b[0m\u001b[0m\n\u001b[1;32m    261\u001b[0m                         \u001b[0;31m# Update the positions, log probabilities and\u001b[0m\u001b[0;34m\u001b[0m\u001b[0;34m\u001b[0m\u001b[0;34m\u001b[0m\u001b[0m\n",
      "\u001b[0;32m~/anaconda3/lib/python3.6/site-packages/emcee/ensemble.py\u001b[0m in \u001b[0;36m_propose_stretch\u001b[0;34m(self, p0, p1, lnprob0)\u001b[0m\n\u001b[1;32m    330\u001b[0m         \u001b[0;31m# Calculate the proposed positions and the log-probability there.\u001b[0m\u001b[0;34m\u001b[0m\u001b[0;34m\u001b[0m\u001b[0;34m\u001b[0m\u001b[0m\n\u001b[1;32m    331\u001b[0m         \u001b[0mq\u001b[0m \u001b[0;34m=\u001b[0m \u001b[0mc\u001b[0m\u001b[0;34m[\u001b[0m\u001b[0mrint\u001b[0m\u001b[0;34m]\u001b[0m \u001b[0;34m-\u001b[0m \u001b[0mzz\u001b[0m\u001b[0;34m[\u001b[0m\u001b[0;34m:\u001b[0m\u001b[0;34m,\u001b[0m \u001b[0mnp\u001b[0m\u001b[0;34m.\u001b[0m\u001b[0mnewaxis\u001b[0m\u001b[0;34m]\u001b[0m \u001b[0;34m*\u001b[0m \u001b[0;34m(\u001b[0m\u001b[0mc\u001b[0m\u001b[0;34m[\u001b[0m\u001b[0mrint\u001b[0m\u001b[0;34m]\u001b[0m \u001b[0;34m-\u001b[0m \u001b[0ms\u001b[0m\u001b[0;34m)\u001b[0m\u001b[0;34m\u001b[0m\u001b[0;34m\u001b[0m\u001b[0m\n\u001b[0;32m--> 332\u001b[0;31m         \u001b[0mnewlnprob\u001b[0m\u001b[0;34m,\u001b[0m \u001b[0mblob\u001b[0m \u001b[0;34m=\u001b[0m \u001b[0mself\u001b[0m\u001b[0;34m.\u001b[0m\u001b[0m_get_lnprob\u001b[0m\u001b[0;34m(\u001b[0m\u001b[0mq\u001b[0m\u001b[0;34m)\u001b[0m\u001b[0;34m\u001b[0m\u001b[0;34m\u001b[0m\u001b[0m\n\u001b[0m\u001b[1;32m    333\u001b[0m \u001b[0;34m\u001b[0m\u001b[0m\n\u001b[1;32m    334\u001b[0m         \u001b[0;31m# Decide whether or not the proposals should be accepted.\u001b[0m\u001b[0;34m\u001b[0m\u001b[0;34m\u001b[0m\u001b[0;34m\u001b[0m\u001b[0m\n",
      "\u001b[0;32m~/anaconda3/lib/python3.6/site-packages/emcee/ensemble.py\u001b[0m in \u001b[0;36m_get_lnprob\u001b[0;34m(self, pos)\u001b[0m\n\u001b[1;32m    406\u001b[0m \u001b[0;34m\u001b[0m\u001b[0m\n\u001b[1;32m    407\u001b[0m             \u001b[0;31m# Finally raise exception.\u001b[0m\u001b[0;34m\u001b[0m\u001b[0;34m\u001b[0m\u001b[0;34m\u001b[0m\u001b[0m\n\u001b[0;32m--> 408\u001b[0;31m             \u001b[0;32mraise\u001b[0m \u001b[0mValueError\u001b[0m\u001b[0;34m(\u001b[0m\u001b[0;34m\"lnprob returned NaN.\"\u001b[0m\u001b[0;34m)\u001b[0m\u001b[0;34m\u001b[0m\u001b[0;34m\u001b[0m\u001b[0m\n\u001b[0m\u001b[1;32m    409\u001b[0m \u001b[0;34m\u001b[0m\u001b[0m\n\u001b[1;32m    410\u001b[0m         \u001b[0;32mreturn\u001b[0m \u001b[0mlnprob\u001b[0m\u001b[0;34m,\u001b[0m \u001b[0mblob\u001b[0m\u001b[0;34m\u001b[0m\u001b[0;34m\u001b[0m\u001b[0m\n",
      "\u001b[0;31mValueError\u001b[0m: lnprob returned NaN."
     ]
    }
   ],
   "source": [
    "p0 = sampler.run_mcmc(pos, 250) #this doesn't work with 500 as it tries to use a negative value of r"
   ]
  },
  {
   "cell_type": "code",
   "execution_count": null,
   "metadata": {},
   "outputs": [],
   "source": [
    "samples = sampler.chain[:, 500:, :].reshape((-1, ndim))\n",
    "print(samples.shape)"
   ]
  },
  {
   "cell_type": "code",
   "execution_count": null,
   "metadata": {},
   "outputs": [],
   "source": [
    "import corner\n",
    "\n",
    "fig = corner.corner(samples, labels=[\"$A$\", \"$\\mu$\", \"$\\sigma$\",\"$r$\", \"$beta$\"],\n",
    "                      truths=[a0, m0, s0, r0, b0])\n",
    "fig.savefig(\"triangle.png\")\n",
    "print(p1cov)"
   ]
  },
  {
   "cell_type": "code",
   "execution_count": null,
   "metadata": {},
   "outputs": [],
   "source": [
    "#now do it with a multiplet\n",
    "xvals = np.array(xvals2[1300:1650])\n",
    "ymeas = np.array(ymeas2[1300:1650])\n",
    "\n",
    "pl.plot(xvals,ymeas)\n",
    "pl.show()"
   ]
  },
  {
   "cell_type": "code",
   "execution_count": null,
   "metadata": {},
   "outputs": [],
   "source": [
    "def lnlike(p0, x, y):\n",
    "    \n",
    "    # get model for these parameters:\n",
    "    npeaks = int((len(p0)-3)/2)\n",
    "    ymod = 0\n",
    "    for i in range(npeaks):\n",
    "        p1 = [p0[i * 2], p0[i * 2 + 1], p0[-3], p0[-2], p0[-1]]\n",
    "        ymod += gf3(p1,x)\n",
    "    \n",
    "    # Poisson loglikelihood:\n",
    "    ll = np.sum(ymod[np.where(ymeas!=0)]*np.log(ymeas[np.where(ymeas!=0)])) - np.sum(ymeas) - np.sum(ymod[np.where(ymod!=0)]*np.log(ymod[np.where(ymod!=0)]) - ymod[np.where(ymod!=0)])\n",
    "    \n",
    "    return ll"
   ]
  },
  {
   "cell_type": "code",
   "execution_count": null,
   "metadata": {},
   "outputs": [],
   "source": [
    "bnd = ((0,None), (None,None), )\n",
    "metabnd = ((0.1,10), (0.1, 100), (0.1,None))\n",
    "#bnds2 = ((None,None), (None,None), (0.1,None), (0.1, 100), (0.1,None))\n",
    "#bnds3 = ((None,None), (None,None), (0.1,None), (0.1, 100), (0.1,None))\n",
    "#bnds4 = ((None,None), (None,None), (0.1,None), (0.1, 100), (0.1,None))\n",
    "\n",
    "bnds = []\n",
    "\n",
    "for peak in range(5):\n",
    "    for bound in bnd:\n",
    "        bnds.append(bound)\n",
    "\n",
    "for bound in metabnd:\n",
    "    bnds.append(bound)\n",
    "        \n",
    "bnds\n",
    "#len(p0) == len(bnds)\n",
    "\n"
   ]
  },
  {
   "cell_type": "code",
   "execution_count": null,
   "metadata": {},
   "outputs": [],
   "source": [
    "mu1 = 1485\n",
    "A1 = np.max(ymeas[int(np.where(xvals == mu1 + 0.5)[0]) - 5 : int(np.where(xvals == mu1 + 0.5)[0]) + 5 ])\n",
    "\n",
    "mu2 = 1520\n",
    "A2 = np.max(ymeas[int(np.where(xvals == mu2 + 0.5)[0]) - 5 : int(np.where(xvals == mu2 + 0.5)[0]) + 5 ])\n",
    "\n",
    "mu3 = 1620\n",
    "A3 = np.max(ymeas[int(np.where(xvals == mu3 + 0.5)[0]) - 5 : int(np.where(xvals == mu3 + 0.5)[0]) + 5 ])\n",
    "\n",
    "mu4 = 1650\n",
    "A4 = np.max(ymeas[int(np.where(xvals == mu4 + 0.5)[0]) - 5 : int(np.where(xvals == mu4 + 0.5)[0]) + 5 ])\n",
    "\n",
    "mu5 = 1670\n",
    "A5 = np.max(ymeas[int(np.where(xvals == mu5 + 0.5)[0]) - 5 : int(np.where(xvals == mu5 + 0.5)[0]) + 5 ])\n",
    "\n",
    "sig = 2\n",
    "r = 30\n",
    "b = 15\n",
    "\n",
    "g1 = [A1,mu1]\n",
    "g2 = [A2,mu2]\n",
    "g3 = [A3,mu3]\n",
    "g4 = [A4,mu4]\n",
    "g5 = [A5,mu5]\n",
    "\n",
    "mets = [sig,r,b]\n",
    "\n",
    "p0 = []\n",
    "\n",
    "for peak in [g1,g2,g3,g4,g5,mets]:\n",
    "    for parameter in peak:\n",
    "        p0.append(parameter)\n",
    "\n",
    "\n",
    "\n",
    "A1"
   ]
  },
  {
   "cell_type": "code",
   "execution_count": null,
   "metadata": {},
   "outputs": [],
   "source": [
    "result = op.minimize(nll, p0, bounds=bnds, args=(xvals, ymeas))\n",
    "p1 = result[\"x\"]"
   ]
  },
  {
   "cell_type": "code",
   "execution_count": null,
   "metadata": {},
   "outputs": [],
   "source": [
    "print(p1)\n",
    "\n",
    "npeaks = int((len(p1) - 3)/2)\n",
    "npeaks\n",
    "ymod = 0\n",
    "for i in range(npeaks):\n",
    "    p2 = [p1[i * 2], p1[i * 2 + 1], p1[-3], p1[-2], p1[-1]]\n",
    "    #print(p2)\n",
    "    ymod += gf3(p2,xvals)\n",
    "\n",
    "ymodinit = 0    \n",
    "for i in range(npeaks):\n",
    "    p3 = [p0[i * 2], p0[i * 2 + 1], p0[-3], p0[-2], p0[-1]]\n",
    "    #print(p2)\n",
    "    ymodinit += gf3(p3,xvals)\n",
    "    \n",
    "#thing = \n",
    "pl.plot(xvals, ymod)\n",
    "#pl.plot(xvals, ymodinit)\n",
    "pl.plot(xvals,ymeas)\n",
    "pl.show()\n"
   ]
  },
  {
   "cell_type": "code",
   "execution_count": null,
   "metadata": {},
   "outputs": [],
   "source": [
    "#this is why we fix the relative widths"
   ]
  },
  {
   "cell_type": "code",
   "execution_count": null,
   "metadata": {},
   "outputs": [],
   "source": []
  },
  {
   "cell_type": "code",
   "execution_count": null,
   "metadata": {},
   "outputs": [],
   "source": []
  }
 ],
 "metadata": {
  "kernelspec": {
   "display_name": "Python 3",
   "language": "python",
   "name": "python3"
  },
  "language_info": {
   "codemirror_mode": {
    "name": "ipython",
    "version": 3
   },
   "file_extension": ".py",
   "mimetype": "text/x-python",
   "name": "python",
   "nbconvert_exporter": "python",
   "pygments_lexer": "ipython3",
   "version": "3.6.7"
  }
 },
 "nbformat": 4,
 "nbformat_minor": 2
}
